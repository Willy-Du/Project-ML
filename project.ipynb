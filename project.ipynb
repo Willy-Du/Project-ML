{
 "cells": [
  {
   "cell_type": "code",
   "execution_count": 2,
   "id": "6471e483",
   "metadata": {},
   "outputs": [],
   "source": [
    "%matplotlib inline\n",
    "import pandas as pd\n",
    "import geopandas as gpd\n",
    "import numpy as np\n",
    "import matplotlib.pyplot as plt\n",
    "import seaborn as sns\n",
    "import datetime as dt"
   ]
  },
  {
   "cell_type": "markdown",
   "id": "c735440a",
   "metadata": {},
   "source": [
    "## Loading Data Incendie\n"
   ]
  },
  {
   "cell_type": "code",
   "execution_count": 4,
   "id": "ad4900f0",
   "metadata": {},
   "outputs": [
    {
     "data": {
      "text/plain": [
       "(27785, 24)"
      ]
     },
     "execution_count": 4,
     "metadata": {},
     "output_type": "execute_result"
    }
   ],
   "source": [
    "df_incendie= pd.read_csv('./Data/Incendies.csv', sep=';', header=3)\n",
    "df_incendie.shape"
   ]
  },
  {
   "cell_type": "code",
   "execution_count": 5,
   "id": "762357f3",
   "metadata": {},
   "outputs": [
    {
     "data": {
      "text/plain": [
       "Index(['Année', 'Numéro', 'Département', 'Code INSEE', 'Nom de la commune',\n",
       "       'Date de première alerte', 'Surface parcourue (m2)',\n",
       "       'Surface forêt (m2)', 'Surface maquis garrigues (m2)',\n",
       "       'Autres surfaces naturelles hors forêt (m2)', 'Surfaces agricoles (m2)',\n",
       "       'Autres surfaces (m2)', 'Surface autres terres boisées (m2)',\n",
       "       'Surfaces non boisées naturelles (m2)',\n",
       "       'Surfaces non boisées artificialisées (m2)',\n",
       "       'Surfaces non boisées (m2)', 'Précision des surfaces',\n",
       "       'Type de peuplement', 'Nature', 'Décès ou bâtiments touchés',\n",
       "       'Nombre de décès', 'Nombre de bâtiments totalement détruits',\n",
       "       'Nombre de bâtiments partiellement détruits', 'Précision de la donnée'],\n",
       "      dtype='object')"
      ]
     },
     "execution_count": 5,
     "metadata": {},
     "output_type": "execute_result"
    }
   ],
   "source": [
    "df_incendie.columns"
   ]
  },
  {
   "cell_type": "code",
   "execution_count": 6,
   "id": "14747ca5",
   "metadata": {},
   "outputs": [],
   "source": [
    "colonnes_utiles = [\n",
    "    'Année',\n",
    "    'Numéro',\n",
    "    'Département',\n",
    "    'Code INSEE',\n",
    "    'Date de première alerte',\n",
    "    'Surface parcourue (m2)',  \n",
    "    'Surface forêt (m2)',\n",
    "    'Surface maquis garrigues (m2)',\n",
    "    'Autres surfaces naturelles hors forêt (m2)',\n",
    "    'Surface autres terres boisées (m2)',\n",
    "    'Surfaces non boisées naturelles (m2)',\n",
    "    'Surfaces non boisées artificialisées (m2)',\n",
    "    'Surfaces non boisées (m2)'\n",
    "]\n",
    "\n",
    "incendie = df_incendie[colonnes_utiles].copy()\n"
   ]
  },
  {
   "cell_type": "code",
   "execution_count": 7,
   "id": "b20a186a",
   "metadata": {},
   "outputs": [
    {
     "data": {
      "text/html": [
       "<div>\n",
       "<style scoped>\n",
       "    .dataframe tbody tr th:only-of-type {\n",
       "        vertical-align: middle;\n",
       "    }\n",
       "\n",
       "    .dataframe tbody tr th {\n",
       "        vertical-align: top;\n",
       "    }\n",
       "\n",
       "    .dataframe thead th {\n",
       "        text-align: right;\n",
       "    }\n",
       "</style>\n",
       "<table border=\"1\" class=\"dataframe\">\n",
       "  <thead>\n",
       "    <tr style=\"text-align: right;\">\n",
       "      <th></th>\n",
       "      <th>Année</th>\n",
       "      <th>Numéro</th>\n",
       "      <th>Département</th>\n",
       "      <th>Code INSEE</th>\n",
       "      <th>Date de première alerte</th>\n",
       "      <th>Surface parcourue (m2)</th>\n",
       "      <th>Surface forêt (m2)</th>\n",
       "      <th>Surface maquis garrigues (m2)</th>\n",
       "      <th>Autres surfaces naturelles hors forêt (m2)</th>\n",
       "      <th>Surface autres terres boisées (m2)</th>\n",
       "      <th>Surfaces non boisées naturelles (m2)</th>\n",
       "      <th>Surfaces non boisées artificialisées (m2)</th>\n",
       "      <th>Surfaces non boisées (m2)</th>\n",
       "    </tr>\n",
       "  </thead>\n",
       "  <tbody>\n",
       "    <tr>\n",
       "      <th>0</th>\n",
       "      <td>2015</td>\n",
       "      <td>5769</td>\n",
       "      <td>66</td>\n",
       "      <td>66100</td>\n",
       "      <td>2015-01-01 00:09:00</td>\n",
       "      <td>5000</td>\n",
       "      <td>5000.0</td>\n",
       "      <td>NaN</td>\n",
       "      <td>NaN</td>\n",
       "      <td>NaN</td>\n",
       "      <td>NaN</td>\n",
       "      <td>NaN</td>\n",
       "      <td>NaN</td>\n",
       "    </tr>\n",
       "  </tbody>\n",
       "</table>\n",
       "</div>"
      ],
      "text/plain": [
       "   Année  Numéro Département Code INSEE Date de première alerte  \\\n",
       "0   2015    5769          66      66100     2015-01-01 00:09:00   \n",
       "\n",
       "   Surface parcourue (m2)  Surface forêt (m2)  Surface maquis garrigues (m2)  \\\n",
       "0                    5000              5000.0                            NaN   \n",
       "\n",
       "   Autres surfaces naturelles hors forêt (m2)  \\\n",
       "0                                         NaN   \n",
       "\n",
       "   Surface autres terres boisées (m2)  Surfaces non boisées naturelles (m2)  \\\n",
       "0                                 NaN                                   NaN   \n",
       "\n",
       "   Surfaces non boisées artificialisées (m2)  Surfaces non boisées (m2)  \n",
       "0                                        NaN                        NaN  "
      ]
     },
     "execution_count": 7,
     "metadata": {},
     "output_type": "execute_result"
    }
   ],
   "source": [
    "incendie.head(1)"
   ]
  },
  {
   "cell_type": "markdown",
   "id": "1ae9a20f",
   "metadata": {},
   "source": [
    "## Cleaning Data Incendie"
   ]
  },
  {
   "cell_type": "code",
   "execution_count": 9,
   "id": "9d090058",
   "metadata": {},
   "outputs": [
    {
     "data": {
      "text/plain": [
       "Année                                         False\n",
       "Numéro                                        False\n",
       "Département                                   False\n",
       "Code INSEE                                    False\n",
       "Date de première alerte                       False\n",
       "Surface parcourue (m2)                        False\n",
       "Surface forêt (m2)                             True\n",
       "Surface maquis garrigues (m2)                  True\n",
       "Autres surfaces naturelles hors forêt (m2)     True\n",
       "Surface autres terres boisées (m2)             True\n",
       "Surfaces non boisées naturelles (m2)           True\n",
       "Surfaces non boisées artificialisées (m2)      True\n",
       "Surfaces non boisées (m2)                      True\n",
       "dtype: bool"
      ]
     },
     "execution_count": 9,
     "metadata": {},
     "output_type": "execute_result"
    }
   ],
   "source": [
    "incendie.isna().any()"
   ]
  },
  {
   "cell_type": "code",
   "execution_count": 10,
   "id": "e8989cb0",
   "metadata": {},
   "outputs": [],
   "source": [
    "incendie.fillna(0, inplace=True)"
   ]
  },
  {
   "cell_type": "code",
   "execution_count": 11,
   "id": "4378f440",
   "metadata": {},
   "outputs": [],
   "source": [
    "# On fusionne les surfaces forêt + autres terres boisées, et les surfaces non boisées naturelles + artificialisées, pour créer des indicateurs synthétiques de type de terrain\n",
    "incendie.iloc[:,6] = incendie.iloc[:,6] + incendie.iloc[:,7]\n",
    "incendie.iloc[:,9] = incendie.iloc[:,9] + incendie.iloc[:,10]"
   ]
  },
  {
   "cell_type": "code",
   "execution_count": 12,
   "id": "06a2c32f",
   "metadata": {},
   "outputs": [],
   "source": [
    "# Suppression des colonnes redondantes après fusion manuelle des surfaces boisées et non boisées\n",
    "incendie.drop(['Surface autres terres boisées (m2)','Surfaces non boisées (m2)'], axis=1, inplace=True)"
   ]
  },
  {
   "cell_type": "code",
   "execution_count": 13,
   "id": "c55e66dd",
   "metadata": {},
   "outputs": [],
   "source": [
    "incendie.rename(columns={\n",
    "    'Année': 'annee',\n",
    "    'Numéro': 'id_inc',\n",
    "    'Département': 'dep',\n",
    "    'Code INSEE': 'code_insee',\n",
    "    'Date de première alerte': 'date',\n",
    "    'Surface parcourue (m2)': 'surf_brulee',\n",
    "    'Surface forêt (m2)': 'surf_foret',\n",
    "    'Surface maquis garrigues (m2)': 'surf_maquis',\n",
    "    'Autres surfaces naturelles hors forêt (m2)': 'autre_surf',\n",
    "    'Surface autres terres boisées (m2)': 'surf_autres_bois',\n",
    "    'Surfaces non boisées naturelles (m2)': 'surf_nb_naturelle',\n",
    "    'Surfaces non boisées artificialisées (m2)': 'surf_nb_artificielle',\n",
    "    'Surfaces non boisées (m2)': 'surf_nb_totale'\n",
    "}, inplace=True)"
   ]
  },
  {
   "cell_type": "code",
   "execution_count": 14,
   "id": "7390f843",
   "metadata": {},
   "outputs": [
    {
     "data": {
      "text/plain": [
       "(27785, 11)"
      ]
     },
     "execution_count": 14,
     "metadata": {},
     "output_type": "execute_result"
    }
   ],
   "source": [
    "incendie.shape"
   ]
  },
  {
   "cell_type": "code",
   "execution_count": 15,
   "id": "f359b0c2",
   "metadata": {},
   "outputs": [
    {
     "data": {
      "text/plain": [
       "(27785, 11)"
      ]
     },
     "execution_count": 15,
     "metadata": {},
     "output_type": "execute_result"
    }
   ],
   "source": [
    "incendie.drop_duplicates(['date','id_inc']).shape"
   ]
  },
  {
   "cell_type": "code",
   "execution_count": 16,
   "id": "0a1ab799",
   "metadata": {},
   "outputs": [
    {
     "data": {
      "text/plain": [
       "(27756, 11)"
      ]
     },
     "execution_count": 16,
     "metadata": {},
     "output_type": "execute_result"
    }
   ],
   "source": [
    "incendie.drop_duplicates(['code_insee','id_inc']).shape"
   ]
  },
  {
   "cell_type": "code",
   "execution_count": 17,
   "id": "91a68313",
   "metadata": {},
   "outputs": [
    {
     "data": {
      "text/plain": [
       "annee                     int64\n",
       "id_inc                    int64\n",
       "dep                      object\n",
       "code_insee               object\n",
       "date                     object\n",
       "surf_brulee               int64\n",
       "surf_foret              float64\n",
       "surf_maquis             float64\n",
       "autre_surf              float64\n",
       "surf_nb_naturelle       float64\n",
       "surf_nb_artificielle    float64\n",
       "dtype: object"
      ]
     },
     "execution_count": 17,
     "metadata": {},
     "output_type": "execute_result"
    }
   ],
   "source": [
    "incendie.dtypes"
   ]
  },
  {
   "cell_type": "code",
   "execution_count": 18,
   "id": "03dbfcaf",
   "metadata": {},
   "outputs": [],
   "source": [
    "# On enlève les départements corses\n",
    "incendie = incendie[~incendie['code_insee'].astype(str).str.startswith(('2A', '2B'))]"
   ]
  },
  {
   "cell_type": "code",
   "execution_count": 19,
   "id": "d24bb1bd",
   "metadata": {},
   "outputs": [],
   "source": [
    "# On convertit la colonne code_insee en entier\n",
    "incendie['code_insee'] = incendie['code_insee'].astype(int)"
   ]
  },
  {
   "cell_type": "code",
   "execution_count": 20,
   "id": "fee4c400",
   "metadata": {},
   "outputs": [],
   "source": [
    "# Regroupement des départements d’Île-de-France sous le code de Paris ('75'), comme dans les données IGN sauf pour la Seine-et-Marne \n",
    "incendie.loc[\n",
    "    (incendie.dep == '75') |\n",
    "    (incendie.dep == '91') |\n",
    "    (incendie.dep == '92') |\n",
    "    (incendie.dep == '93') |\n",
    "    (incendie.dep == '94') |\n",
    "    (incendie.dep == '95') |\n",
    "    (incendie.dep == '78'),\n",
    "    'dep'\n",
    "] = '75'"
   ]
  },
  {
   "cell_type": "code",
   "execution_count": 21,
   "id": "c8c3b268",
   "metadata": {},
   "outputs": [],
   "source": [
    "# Convertir les dates en datetime\n",
    "incendie['date'] = incendie.date.apply(lambda _: dt.datetime.strptime(_,\"%Y-%m-%d %H:%M:%S\"))"
   ]
  },
  {
   "cell_type": "markdown",
   "id": "6f3e9424",
   "metadata": {},
   "source": [
    "## Loading Geographic Data"
   ]
  },
  {
   "cell_type": "code",
   "execution_count": 23,
   "id": "4a1f4b6f",
   "metadata": {},
   "outputs": [],
   "source": [
    "coords= gpd.read_file('./Data/commune.shp')"
   ]
  },
  {
   "cell_type": "code",
   "execution_count": 24,
   "id": "12e2f4a0",
   "metadata": {},
   "outputs": [
    {
     "data": {
      "text/plain": [
       "((34935, 12),\n",
       " Index(['ID', 'NOM', 'NOM_M', 'INSEE_COM', 'STATUT', 'POPULATION', 'INSEE_CAN',\n",
       "        'INSEE_ARR', 'INSEE_DEP', 'INSEE_REG', 'SIREN_EPCI', 'geometry'],\n",
       "       dtype='object'))"
      ]
     },
     "execution_count": 24,
     "metadata": {},
     "output_type": "execute_result"
    }
   ],
   "source": [
    "# Affichage du nombre de communes et des colonnes disponibles dans le shapefile AdminExpress\n",
    "coords.shape, coords.columns"
   ]
  },
  {
   "cell_type": "code",
   "execution_count": 25,
   "id": "0a6a047a",
   "metadata": {},
   "outputs": [],
   "source": [
    "coords = coords[['INSEE_COM', 'INSEE_DEP', 'geometry']].copy()\n",
    "coords.columns = ['code_insee', 'dep', 'geometry']"
   ]
  },
  {
   "cell_type": "code",
   "execution_count": 26,
   "id": "3983c253",
   "metadata": {},
   "outputs": [],
   "source": [
    "# On sélectionne les colonnes utiles et on harmonise le code INSEE au format chaîne de 5 caractères\n",
    "coords['code_insee'] = coords['code_insee'].astype(str).str.zfill(5)"
   ]
  },
  {
   "cell_type": "code",
   "execution_count": 27,
   "id": "8b4c1dd5",
   "metadata": {},
   "outputs": [],
   "source": [
    "coords.loc[(coords.dep=='75')|(coords.dep=='91')|(coords.dep=='92')|(coords.dep=='93')|(coords.dep=='94')|(coords.dep=='95')|(coords.dep=='78'), 'dep'] = '75'"
   ]
  },
  {
   "cell_type": "code",
   "execution_count": 28,
   "id": "262161a6",
   "metadata": {},
   "outputs": [
    {
     "data": {
      "text/html": [
       "<div>\n",
       "<style scoped>\n",
       "    .dataframe tbody tr th:only-of-type {\n",
       "        vertical-align: middle;\n",
       "    }\n",
       "\n",
       "    .dataframe tbody tr th {\n",
       "        vertical-align: top;\n",
       "    }\n",
       "\n",
       "    .dataframe thead th {\n",
       "        text-align: right;\n",
       "    }\n",
       "</style>\n",
       "<table border=\"1\" class=\"dataframe\">\n",
       "  <thead>\n",
       "    <tr style=\"text-align: right;\">\n",
       "      <th></th>\n",
       "      <th>annee</th>\n",
       "      <th>id_inc</th>\n",
       "      <th>dep</th>\n",
       "      <th>code_insee</th>\n",
       "      <th>date</th>\n",
       "      <th>surf_brulee</th>\n",
       "      <th>surf_foret</th>\n",
       "      <th>surf_maquis</th>\n",
       "      <th>autre_surf</th>\n",
       "      <th>surf_nb_naturelle</th>\n",
       "      <th>surf_nb_artificielle</th>\n",
       "    </tr>\n",
       "  </thead>\n",
       "  <tbody>\n",
       "    <tr>\n",
       "      <th>118</th>\n",
       "      <td>2015</td>\n",
       "      <td>6934</td>\n",
       "      <td>48</td>\n",
       "      <td>48122</td>\n",
       "      <td>2015-02-18 14:30:00</td>\n",
       "      <td>12500</td>\n",
       "      <td>6000.0</td>\n",
       "      <td>0.0</td>\n",
       "      <td>0.0</td>\n",
       "      <td>0.0</td>\n",
       "      <td>0.0</td>\n",
       "    </tr>\n",
       "    <tr>\n",
       "      <th>189</th>\n",
       "      <td>2015</td>\n",
       "      <td>11315</td>\n",
       "      <td>48</td>\n",
       "      <td>48162</td>\n",
       "      <td>2015-03-07 21:30:00</td>\n",
       "      <td>10005</td>\n",
       "      <td>0.0</td>\n",
       "      <td>0.0</td>\n",
       "      <td>0.0</td>\n",
       "      <td>0.0</td>\n",
       "      <td>0.0</td>\n",
       "    </tr>\n",
       "    <tr>\n",
       "      <th>201</th>\n",
       "      <td>2015</td>\n",
       "      <td>10983</td>\n",
       "      <td>48</td>\n",
       "      <td>48022</td>\n",
       "      <td>2015-03-08 15:40:00</td>\n",
       "      <td>114600</td>\n",
       "      <td>114600.0</td>\n",
       "      <td>114600.0</td>\n",
       "      <td>0.0</td>\n",
       "      <td>0.0</td>\n",
       "      <td>0.0</td>\n",
       "    </tr>\n",
       "    <tr>\n",
       "      <th>212</th>\n",
       "      <td>2015</td>\n",
       "      <td>10961</td>\n",
       "      <td>48</td>\n",
       "      <td>48022</td>\n",
       "      <td>2015-03-09 13:02:00</td>\n",
       "      <td>138000</td>\n",
       "      <td>138000.0</td>\n",
       "      <td>138000.0</td>\n",
       "      <td>0.0</td>\n",
       "      <td>0.0</td>\n",
       "      <td>0.0</td>\n",
       "    </tr>\n",
       "    <tr>\n",
       "      <th>233</th>\n",
       "      <td>2015</td>\n",
       "      <td>10818</td>\n",
       "      <td>11</td>\n",
       "      <td>11097</td>\n",
       "      <td>2015-03-10 15:53:00</td>\n",
       "      <td>2000</td>\n",
       "      <td>0.0</td>\n",
       "      <td>0.0</td>\n",
       "      <td>0.0</td>\n",
       "      <td>0.0</td>\n",
       "      <td>0.0</td>\n",
       "    </tr>\n",
       "    <tr>\n",
       "      <th>...</th>\n",
       "      <td>...</td>\n",
       "      <td>...</td>\n",
       "      <td>...</td>\n",
       "      <td>...</td>\n",
       "      <td>...</td>\n",
       "      <td>...</td>\n",
       "      <td>...</td>\n",
       "      <td>...</td>\n",
       "      <td>...</td>\n",
       "      <td>...</td>\n",
       "      <td>...</td>\n",
       "    </tr>\n",
       "    <tr>\n",
       "      <th>22174</th>\n",
       "      <td>2022</td>\n",
       "      <td>2504</td>\n",
       "      <td>71</td>\n",
       "      <td>71492</td>\n",
       "      <td>2022-07-31 13:10:00</td>\n",
       "      <td>5000</td>\n",
       "      <td>0.0</td>\n",
       "      <td>0.0</td>\n",
       "      <td>5000.0</td>\n",
       "      <td>0.0</td>\n",
       "      <td>0.0</td>\n",
       "    </tr>\n",
       "    <tr>\n",
       "      <th>22237</th>\n",
       "      <td>2022</td>\n",
       "      <td>17749</td>\n",
       "      <td>05</td>\n",
       "      <td>05141</td>\n",
       "      <td>2022-08-02 09:23:00</td>\n",
       "      <td>13130</td>\n",
       "      <td>1330.0</td>\n",
       "      <td>230.0</td>\n",
       "      <td>0.0</td>\n",
       "      <td>0.0</td>\n",
       "      <td>0.0</td>\n",
       "    </tr>\n",
       "    <tr>\n",
       "      <th>22361</th>\n",
       "      <td>2022</td>\n",
       "      <td>17967</td>\n",
       "      <td>48</td>\n",
       "      <td>48184</td>\n",
       "      <td>2022-08-04 15:45:00</td>\n",
       "      <td>90000</td>\n",
       "      <td>90000.0</td>\n",
       "      <td>90000.0</td>\n",
       "      <td>0.0</td>\n",
       "      <td>0.0</td>\n",
       "      <td>0.0</td>\n",
       "    </tr>\n",
       "    <tr>\n",
       "      <th>22702</th>\n",
       "      <td>2022</td>\n",
       "      <td>18092</td>\n",
       "      <td>48</td>\n",
       "      <td>48154</td>\n",
       "      <td>2022-08-10 14:13:00</td>\n",
       "      <td>150</td>\n",
       "      <td>150.0</td>\n",
       "      <td>150.0</td>\n",
       "      <td>0.0</td>\n",
       "      <td>0.0</td>\n",
       "      <td>0.0</td>\n",
       "    </tr>\n",
       "    <tr>\n",
       "      <th>23265</th>\n",
       "      <td>2022</td>\n",
       "      <td>19081</td>\n",
       "      <td>07</td>\n",
       "      <td>07256</td>\n",
       "      <td>2022-08-30 17:15:00</td>\n",
       "      <td>500</td>\n",
       "      <td>500.0</td>\n",
       "      <td>500.0</td>\n",
       "      <td>0.0</td>\n",
       "      <td>0.0</td>\n",
       "      <td>0.0</td>\n",
       "    </tr>\n",
       "  </tbody>\n",
       "</table>\n",
       "<p>190 rows × 11 columns</p>\n",
       "</div>"
      ],
      "text/plain": [
       "       annee  id_inc dep code_insee                date  surf_brulee  \\\n",
       "118     2015    6934  48      48122 2015-02-18 14:30:00        12500   \n",
       "189     2015   11315  48      48162 2015-03-07 21:30:00        10005   \n",
       "201     2015   10983  48      48022 2015-03-08 15:40:00       114600   \n",
       "212     2015   10961  48      48022 2015-03-09 13:02:00       138000   \n",
       "233     2015   10818  11      11097 2015-03-10 15:53:00         2000   \n",
       "...      ...     ...  ..        ...                 ...          ...   \n",
       "22174   2022    2504  71      71492 2022-07-31 13:10:00         5000   \n",
       "22237   2022   17749  05      05141 2022-08-02 09:23:00        13130   \n",
       "22361   2022   17967  48      48184 2022-08-04 15:45:00        90000   \n",
       "22702   2022   18092  48      48154 2022-08-10 14:13:00          150   \n",
       "23265   2022   19081  07      07256 2022-08-30 17:15:00          500   \n",
       "\n",
       "       surf_foret  surf_maquis  autre_surf  surf_nb_naturelle  \\\n",
       "118        6000.0          0.0         0.0                0.0   \n",
       "189           0.0          0.0         0.0                0.0   \n",
       "201      114600.0     114600.0         0.0                0.0   \n",
       "212      138000.0     138000.0         0.0                0.0   \n",
       "233           0.0          0.0         0.0                0.0   \n",
       "...           ...          ...         ...                ...   \n",
       "22174         0.0          0.0      5000.0                0.0   \n",
       "22237      1330.0        230.0         0.0                0.0   \n",
       "22361     90000.0      90000.0         0.0                0.0   \n",
       "22702       150.0        150.0         0.0                0.0   \n",
       "23265       500.0        500.0         0.0                0.0   \n",
       "\n",
       "       surf_nb_artificielle  \n",
       "118                     0.0  \n",
       "189                     0.0  \n",
       "201                     0.0  \n",
       "212                     0.0  \n",
       "233                     0.0  \n",
       "...                     ...  \n",
       "22174                   0.0  \n",
       "22237                   0.0  \n",
       "22361                   0.0  \n",
       "22702                   0.0  \n",
       "23265                   0.0  \n",
       "\n",
       "[190 rows x 11 columns]"
      ]
     },
     "execution_count": 28,
     "metadata": {},
     "output_type": "execute_result"
    }
   ],
   "source": [
    "# Harmonisation des code_insee dans le dataset incendie\n",
    "incendie['code_insee'] = incendie['code_insee'].astype(str).str.zfill(5)\n",
    "\n",
    "# Affichage des communes non matchées\n",
    "incendie[~incendie['code_insee'].isin(coords['code_insee'])]\n"
   ]
  },
  {
   "cell_type": "code",
   "execution_count": 29,
   "id": "8ab4dc74",
   "metadata": {},
   "outputs": [
    {
     "data": {
      "text/plain": [
       "190"
      ]
     },
     "execution_count": 29,
     "metadata": {},
     "output_type": "execute_result"
    }
   ],
   "source": [
    "# Nombre de communes sans correspondance géographique\n",
    "len(incendie[~incendie.code_insee.isin(coords.code_insee)])"
   ]
  },
  {
   "cell_type": "code",
   "execution_count": 30,
   "id": "dc7ee061",
   "metadata": {},
   "outputs": [
    {
     "data": {
      "text/plain": [
       "2015"
      ]
     },
     "execution_count": 30,
     "metadata": {},
     "output_type": "execute_result"
    }
   ],
   "source": [
    "# Date de la première alerte\n",
    "incendie.date.dt.year.min()"
   ]
  },
  {
   "cell_type": "markdown",
   "id": "6e1d84ea",
   "metadata": {},
   "source": [
    "## Loading Data Forêt"
   ]
  },
  {
   "cell_type": "code",
   "execution_count": 32,
   "id": "ca9cf3e2",
   "metadata": {},
   "outputs": [],
   "source": [
    "arbre = pd.read_csv(\"./Data/COUVERT.csv\", sep=\";\", low_memory=False)"
   ]
  },
  {
   "cell_type": "code",
   "execution_count": 33,
   "id": "7ff7a68c",
   "metadata": {},
   "outputs": [
    {
     "data": {
      "text/plain": [
       "((750822, 9),\n",
       " Index(['CAMPAGNE', 'IDP', 'STRATE', 'ESPAR_C', 'TCA', 'TCL', 'P1525', 'P7ARES',\n",
       "        'Unnamed: 8'],\n",
       "       dtype='object'))"
      ]
     },
     "execution_count": 33,
     "metadata": {},
     "output_type": "execute_result"
    }
   ],
   "source": [
    "arbre.shape, arbre.columns"
   ]
  },
  {
   "cell_type": "code",
   "execution_count": 34,
   "id": "860fa185",
   "metadata": {},
   "outputs": [],
   "source": [
    "arbre.sort_values(['IDP','TCA'], inplace=True)"
   ]
  },
  {
   "cell_type": "code",
   "execution_count": 35,
   "id": "95f203a6",
   "metadata": {},
   "outputs": [],
   "source": [
    "ign = arbre[['IDP', 'ESPAR_C']].drop_duplicates('IDP', keep='last').copy()"
   ]
  },
  {
   "cell_type": "code",
   "execution_count": 36,
   "id": "9ccea147",
   "metadata": {},
   "outputs": [
    {
     "data": {
      "text/plain": [
       "(110459, 2)"
      ]
     },
     "execution_count": 36,
     "metadata": {},
     "output_type": "execute_result"
    }
   ],
   "source": [
    "ign.columns = ['idp', 'essence']\n",
    "ign.shape"
   ]
  },
  {
   "cell_type": "code",
   "execution_count": 37,
   "id": "3b0e3541",
   "metadata": {},
   "outputs": [],
   "source": [
    "ign.set_index('idp', inplace=True)"
   ]
  },
  {
   "cell_type": "markdown",
   "id": "23141dd2",
   "metadata": {},
   "source": [
    "## Cleaning Data Forêt"
   ]
  },
  {
   "cell_type": "code",
   "execution_count": 39,
   "id": "9aa1788f",
   "metadata": {},
   "outputs": [
    {
     "data": {
      "text/plain": [
       "idp        False\n",
       "essence    False\n",
       "dtype: bool"
      ]
     },
     "execution_count": 39,
     "metadata": {},
     "output_type": "execute_result"
    }
   ],
   "source": [
    "ign.reset_index(inplace=True)\n",
    "ign.isna().any()"
   ]
  },
  {
   "cell_type": "code",
   "execution_count": 40,
   "id": "7f2062e2",
   "metadata": {},
   "outputs": [
    {
     "data": {
      "text/plain": [
       "CAMPAGNE      False\n",
       "IDP           False\n",
       "STRATE        False\n",
       "ESPAR_C       False\n",
       "TCA           False\n",
       "TCL           False\n",
       "P1525          True\n",
       "P7ARES         True\n",
       "Unnamed: 8     True\n",
       "dtype: bool"
      ]
     },
     "execution_count": 40,
     "metadata": {},
     "output_type": "execute_result"
    }
   ],
   "source": [
    "# valeurs NaN venant d'un dataset original?\n",
    "arbre.isna().any()"
   ]
  },
  {
   "cell_type": "markdown",
   "id": "0332b8d6",
   "metadata": {},
   "source": [
    "## Loading Data Météo"
   ]
  },
  {
   "cell_type": "code",
   "execution_count": 42,
   "id": "37090f1d",
   "metadata": {},
   "outputs": [],
   "source": [
    "station= pd.read_csv('./Data/meteo_station.txt', sep=';')"
   ]
  },
  {
   "cell_type": "code",
   "execution_count": 43,
   "id": "d482467e",
   "metadata": {},
   "outputs": [
    {
     "data": {
      "text/plain": [
       "0"
      ]
     },
     "execution_count": 43,
     "metadata": {},
     "output_type": "execute_result"
    }
   ],
   "source": [
    "station.shape[0] - len(station.ID.drop_duplicates())"
   ]
  },
  {
   "cell_type": "code",
   "execution_count": 44,
   "id": "bc95893e",
   "metadata": {},
   "outputs": [
    {
     "data": {
      "text/html": [
       "<div>\n",
       "<style scoped>\n",
       "    .dataframe tbody tr th:only-of-type {\n",
       "        vertical-align: middle;\n",
       "    }\n",
       "\n",
       "    .dataframe tbody tr th {\n",
       "        vertical-align: top;\n",
       "    }\n",
       "\n",
       "    .dataframe thead th {\n",
       "        text-align: right;\n",
       "    }\n",
       "</style>\n",
       "<table border=\"1\" class=\"dataframe\">\n",
       "  <thead>\n",
       "    <tr style=\"text-align: right;\">\n",
       "      <th></th>\n",
       "      <th>ID</th>\n",
       "      <th>Nom</th>\n",
       "      <th>Latitude</th>\n",
       "      <th>Longitude</th>\n",
       "      <th>Altitude</th>\n",
       "    </tr>\n",
       "  </thead>\n",
       "  <tbody>\n",
       "    <tr>\n",
       "      <th>0</th>\n",
       "      <td>7005</td>\n",
       "      <td>ABBEVILLE</td>\n",
       "      <td>50.136</td>\n",
       "      <td>1.834</td>\n",
       "      <td>69</td>\n",
       "    </tr>\n",
       "  </tbody>\n",
       "</table>\n",
       "</div>"
      ],
      "text/plain": [
       "     ID        Nom  Latitude  Longitude  Altitude\n",
       "0  7005  ABBEVILLE    50.136      1.834        69"
      ]
     },
     "execution_count": 44,
     "metadata": {},
     "output_type": "execute_result"
    }
   ],
   "source": [
    "station.head(1)"
   ]
  },
  {
   "cell_type": "code",
   "execution_count": 45,
   "id": "f6762657",
   "metadata": {},
   "outputs": [],
   "source": [
    "station.drop(['Nom', 'Altitude'], axis=1, inplace=True)"
   ]
  },
  {
   "cell_type": "code",
   "execution_count": 46,
   "id": "3c085c65",
   "metadata": {},
   "outputs": [],
   "source": [
    "station.columns = station.columns.str.lower()"
   ]
  },
  {
   "cell_type": "code",
   "execution_count": 47,
   "id": "326a79a2",
   "metadata": {},
   "outputs": [],
   "source": [
    "geometry = gpd.points_from_xy(station.longitude, station.latitude)\n",
    "crs = 'epsg:4326'\n",
    "\n",
    "stations = gpd.GeoDataFrame(station, geometry=geometry, crs=crs)"
   ]
  },
  {
   "cell_type": "code",
   "execution_count": 48,
   "id": "f63330de",
   "metadata": {},
   "outputs": [],
   "source": [
    "stations.set_crs(epsg=4326, inplace=True, allow_override=True)\n",
    "coords.set_crs(epsg=4326, inplace=True, allow_override=True)\n",
    "\n",
    "stations = stations.to_crs(epsg=2154)\n",
    "coords = coords.to_crs(epsg=2154)\n",
    "\n"
   ]
  },
  {
   "cell_type": "code",
   "execution_count": 49,
   "id": "60080e6d",
   "metadata": {
    "scrolled": true
   },
   "outputs": [
    {
     "data": {
      "text/html": [
       "<div>\n",
       "<style scoped>\n",
       "    .dataframe tbody tr th:only-of-type {\n",
       "        vertical-align: middle;\n",
       "    }\n",
       "\n",
       "    .dataframe tbody tr th {\n",
       "        vertical-align: top;\n",
       "    }\n",
       "\n",
       "    .dataframe thead th {\n",
       "        text-align: right;\n",
       "    }\n",
       "</style>\n",
       "<table border=\"1\" class=\"dataframe\">\n",
       "  <thead>\n",
       "    <tr style=\"text-align: right;\">\n",
       "      <th></th>\n",
       "      <th>code_insee</th>\n",
       "      <th>dep</th>\n",
       "      <th>geometry</th>\n",
       "      <th>index_right</th>\n",
       "      <th>id</th>\n",
       "      <th>latitude</th>\n",
       "      <th>longitude</th>\n",
       "    </tr>\n",
       "  </thead>\n",
       "  <tbody>\n",
       "    <tr>\n",
       "      <th>0</th>\n",
       "      <td>29067</td>\n",
       "      <td>29</td>\n",
       "      <td>POLYGON ((213580.3 6849033.2, 213591.6 6848979...</td>\n",
       "      <td>7</td>\n",
       "      <td>7117</td>\n",
       "      <td>48.825833</td>\n",
       "      <td>-3.473167</td>\n",
       "    </tr>\n",
       "  </tbody>\n",
       "</table>\n",
       "</div>"
      ],
      "text/plain": [
       "  code_insee dep                                           geometry  \\\n",
       "0      29067  29  POLYGON ((213580.3 6849033.2, 213591.6 6848979...   \n",
       "\n",
       "   index_right    id   latitude  longitude  \n",
       "0            7  7117  48.825833  -3.473167  "
      ]
     },
     "execution_count": 49,
     "metadata": {},
     "output_type": "execute_result"
    }
   ],
   "source": [
    "# test de proximité entre Point(Stations) et Polygone(Coords_fr)\n",
    "stations = gpd.sjoin_nearest(coords, stations)\n",
    "stations.head(1)"
   ]
  },
  {
   "cell_type": "code",
   "execution_count": 50,
   "id": "27968507",
   "metadata": {},
   "outputs": [],
   "source": [
    "# récupération des codes départementaux via le code INSEE\n",
    "stations['dep_insee'] = stations.code_insee.apply(lambda _: _[:2])"
   ]
  },
  {
   "cell_type": "code",
   "execution_count": 51,
   "id": "68fbc668",
   "metadata": {},
   "outputs": [],
   "source": [
    "# changement pour les départements d'Île-de-France en 75\n",
    "stations.loc[(stations.dep_insee=='75')|(stations.dep_insee=='91')|(stations.dep_insee=='92')|(stations.dep_insee=='93')|(stations.dep_insee=='94')|(stations.dep_insee=='95')|(stations.dep_insee=='78'), 'dep_insee'] = '75'"
   ]
  },
  {
   "cell_type": "code",
   "execution_count": 52,
   "id": "875ee170",
   "metadata": {},
   "outputs": [
    {
     "data": {
      "text/html": [
       "<div>\n",
       "<style scoped>\n",
       "    .dataframe tbody tr th:only-of-type {\n",
       "        vertical-align: middle;\n",
       "    }\n",
       "\n",
       "    .dataframe tbody tr th {\n",
       "        vertical-align: top;\n",
       "    }\n",
       "\n",
       "    .dataframe thead th {\n",
       "        text-align: right;\n",
       "    }\n",
       "</style>\n",
       "<table border=\"1\" class=\"dataframe\">\n",
       "  <thead>\n",
       "    <tr style=\"text-align: right;\">\n",
       "      <th></th>\n",
       "      <th>code_insee</th>\n",
       "      <th>dep</th>\n",
       "      <th>geometry</th>\n",
       "      <th>index_right</th>\n",
       "      <th>id</th>\n",
       "      <th>latitude</th>\n",
       "      <th>longitude</th>\n",
       "      <th>dep_insee</th>\n",
       "    </tr>\n",
       "  </thead>\n",
       "  <tbody>\n",
       "    <tr>\n",
       "      <th>34806</th>\n",
       "      <td>97110</td>\n",
       "      <td>971</td>\n",
       "      <td>MULTIPOLYGON (((-6222575.57 6081172.109, -6222...</td>\n",
       "      <td>52</td>\n",
       "      <td>78890</td>\n",
       "      <td>16.335000</td>\n",
       "      <td>-61.004000</td>\n",
       "      <td>97</td>\n",
       "    </tr>\n",
       "    <tr>\n",
       "      <th>34807</th>\n",
       "      <td>97114</td>\n",
       "      <td>971</td>\n",
       "      <td>MULTIPOLYGON (((-6281930.798 6110794.953, -628...</td>\n",
       "      <td>54</td>\n",
       "      <td>78897</td>\n",
       "      <td>16.264000</td>\n",
       "      <td>-61.516333</td>\n",
       "      <td>97</td>\n",
       "    </tr>\n",
       "    <tr>\n",
       "      <th>34808</th>\n",
       "      <td>97119</td>\n",
       "      <td>971</td>\n",
       "      <td>POLYGON ((-6238971.15 6123966.423, -6238971.18...</td>\n",
       "      <td>54</td>\n",
       "      <td>78897</td>\n",
       "      <td>16.264000</td>\n",
       "      <td>-61.516333</td>\n",
       "      <td>97</td>\n",
       "    </tr>\n",
       "    <tr>\n",
       "      <th>34809</th>\n",
       "      <td>97124</td>\n",
       "      <td>971</td>\n",
       "      <td>POLYGON ((-6305588.814 6112702.415, -6305587.2...</td>\n",
       "      <td>54</td>\n",
       "      <td>78897</td>\n",
       "      <td>16.264000</td>\n",
       "      <td>-61.516333</td>\n",
       "      <td>97</td>\n",
       "    </tr>\n",
       "    <tr>\n",
       "      <th>34810</th>\n",
       "      <td>97109</td>\n",
       "      <td>971</td>\n",
       "      <td>POLYGON ((-6297024.531 6111938.047, -6297046.5...</td>\n",
       "      <td>54</td>\n",
       "      <td>78897</td>\n",
       "      <td>16.264000</td>\n",
       "      <td>-61.516333</td>\n",
       "      <td>97</td>\n",
       "    </tr>\n",
       "    <tr>\n",
       "      <th>...</th>\n",
       "      <td>...</td>\n",
       "      <td>...</td>\n",
       "      <td>...</td>\n",
       "      <td>...</td>\n",
       "      <td>...</td>\n",
       "      <td>...</td>\n",
       "      <td>...</td>\n",
       "      <td>...</td>\n",
       "    </tr>\n",
       "    <tr>\n",
       "      <th>34930</th>\n",
       "      <td>97358</td>\n",
       "      <td>973</td>\n",
       "      <td>POLYGON ((-6604138.273 4177665.52, -6604368.73...</td>\n",
       "      <td>58</td>\n",
       "      <td>81405</td>\n",
       "      <td>4.822333</td>\n",
       "      <td>-52.365333</td>\n",
       "      <td>97</td>\n",
       "    </tr>\n",
       "    <tr>\n",
       "      <th>34931</th>\n",
       "      <td>97312</td>\n",
       "      <td>973</td>\n",
       "      <td>MULTIPOLYGON (((-6508825.476 4300634.146, -650...</td>\n",
       "      <td>58</td>\n",
       "      <td>81405</td>\n",
       "      <td>4.822333</td>\n",
       "      <td>-52.365333</td>\n",
       "      <td>97</td>\n",
       "    </tr>\n",
       "    <tr>\n",
       "      <th>34932</th>\n",
       "      <td>97356</td>\n",
       "      <td>973</td>\n",
       "      <td>POLYGON ((-6659948.979 4096555.217, -6658105.8...</td>\n",
       "      <td>59</td>\n",
       "      <td>81408</td>\n",
       "      <td>3.890667</td>\n",
       "      <td>-51.804667</td>\n",
       "      <td>97</td>\n",
       "    </tr>\n",
       "    <tr>\n",
       "      <th>34933</th>\n",
       "      <td>97361</td>\n",
       "      <td>973</td>\n",
       "      <td>MULTIPOLYGON (((-6526130.287 4423842.842, -652...</td>\n",
       "      <td>57</td>\n",
       "      <td>81401</td>\n",
       "      <td>5.485500</td>\n",
       "      <td>-54.031667</td>\n",
       "      <td>97</td>\n",
       "    </tr>\n",
       "    <tr>\n",
       "      <th>34934</th>\n",
       "      <td>97302</td>\n",
       "      <td>973</td>\n",
       "      <td>MULTIPOLYGON (((-6424769.337 4211176.217, -642...</td>\n",
       "      <td>58</td>\n",
       "      <td>81405</td>\n",
       "      <td>4.822333</td>\n",
       "      <td>-52.365333</td>\n",
       "      <td>97</td>\n",
       "    </tr>\n",
       "  </tbody>\n",
       "</table>\n",
       "<p>129 rows × 8 columns</p>\n",
       "</div>"
      ],
      "text/plain": [
       "      code_insee  dep                                           geometry  \\\n",
       "34806      97110  971  MULTIPOLYGON (((-6222575.57 6081172.109, -6222...   \n",
       "34807      97114  971  MULTIPOLYGON (((-6281930.798 6110794.953, -628...   \n",
       "34808      97119  971  POLYGON ((-6238971.15 6123966.423, -6238971.18...   \n",
       "34809      97124  971  POLYGON ((-6305588.814 6112702.415, -6305587.2...   \n",
       "34810      97109  971  POLYGON ((-6297024.531 6111938.047, -6297046.5...   \n",
       "...          ...  ...                                                ...   \n",
       "34930      97358  973  POLYGON ((-6604138.273 4177665.52, -6604368.73...   \n",
       "34931      97312  973  MULTIPOLYGON (((-6508825.476 4300634.146, -650...   \n",
       "34932      97356  973  POLYGON ((-6659948.979 4096555.217, -6658105.8...   \n",
       "34933      97361  973  MULTIPOLYGON (((-6526130.287 4423842.842, -652...   \n",
       "34934      97302  973  MULTIPOLYGON (((-6424769.337 4211176.217, -642...   \n",
       "\n",
       "       index_right     id   latitude  longitude dep_insee  \n",
       "34806           52  78890  16.335000 -61.004000        97  \n",
       "34807           54  78897  16.264000 -61.516333        97  \n",
       "34808           54  78897  16.264000 -61.516333        97  \n",
       "34809           54  78897  16.264000 -61.516333        97  \n",
       "34810           54  78897  16.264000 -61.516333        97  \n",
       "...            ...    ...        ...        ...       ...  \n",
       "34930           58  81405   4.822333 -52.365333        97  \n",
       "34931           58  81405   4.822333 -52.365333        97  \n",
       "34932           59  81408   3.890667 -51.804667        97  \n",
       "34933           57  81401   5.485500 -54.031667        97  \n",
       "34934           58  81405   4.822333 -52.365333        97  \n",
       "\n",
       "[129 rows x 8 columns]"
      ]
     },
     "execution_count": 52,
     "metadata": {},
     "output_type": "execute_result"
    }
   ],
   "source": [
    "# différence entre \"dep\" et le département du code INSEE?\n",
    "stations[stations.dep_insee!=stations.dep.astype(str)]"
   ]
  },
  {
   "cell_type": "code",
   "execution_count": 53,
   "id": "21545aea",
   "metadata": {},
   "outputs": [
    {
     "ename": "KeyError",
     "evalue": "\"['Latitude', 'Longitude'] not found in axis\"",
     "output_type": "error",
     "traceback": [
      "\u001b[1;31m---------------------------------------------------------------------------\u001b[0m",
      "\u001b[1;31mKeyError\u001b[0m                                  Traceback (most recent call last)",
      "Cell \u001b[1;32mIn[53], line 2\u001b[0m\n\u001b[0;32m      1\u001b[0m \u001b[38;5;66;03m# réorganisation du df Stations\u001b[39;00m\n\u001b[1;32m----> 2\u001b[0m stations\u001b[38;5;241m.\u001b[39mdrop([\u001b[38;5;124m'\u001b[39m\u001b[38;5;124mLatitude\u001b[39m\u001b[38;5;124m'\u001b[39m, \u001b[38;5;124m'\u001b[39m\u001b[38;5;124mLongitude\u001b[39m\u001b[38;5;124m'\u001b[39m, \u001b[38;5;124m'\u001b[39m\u001b[38;5;124mindex_right\u001b[39m\u001b[38;5;124m'\u001b[39m,\u001b[38;5;124m'\u001b[39m\u001b[38;5;124mgeometry\u001b[39m\u001b[38;5;124m'\u001b[39m], axis\u001b[38;5;241m=\u001b[39m\u001b[38;5;241m1\u001b[39m, inplace\u001b[38;5;241m=\u001b[39m\u001b[38;5;28;01mTrue\u001b[39;00m)\n\u001b[0;32m      3\u001b[0m stations\u001b[38;5;241m.\u001b[39minsert(\u001b[38;5;241m2\u001b[39m,\u001b[38;5;124m'\u001b[39m\u001b[38;5;124mid\u001b[39m\u001b[38;5;124m'\u001b[39m,stations\u001b[38;5;241m.\u001b[39mpop(\u001b[38;5;124m'\u001b[39m\u001b[38;5;124mid\u001b[39m\u001b[38;5;124m'\u001b[39m))\n",
      "File \u001b[1;32m~\\anaconda3\\Lib\\site-packages\\pandas\\core\\frame.py:5581\u001b[0m, in \u001b[0;36mDataFrame.drop\u001b[1;34m(self, labels, axis, index, columns, level, inplace, errors)\u001b[0m\n\u001b[0;32m   5433\u001b[0m \u001b[38;5;28;01mdef\u001b[39;00m \u001b[38;5;21mdrop\u001b[39m(\n\u001b[0;32m   5434\u001b[0m     \u001b[38;5;28mself\u001b[39m,\n\u001b[0;32m   5435\u001b[0m     labels: IndexLabel \u001b[38;5;241m|\u001b[39m \u001b[38;5;28;01mNone\u001b[39;00m \u001b[38;5;241m=\u001b[39m \u001b[38;5;28;01mNone\u001b[39;00m,\n\u001b[1;32m   (...)\u001b[0m\n\u001b[0;32m   5442\u001b[0m     errors: IgnoreRaise \u001b[38;5;241m=\u001b[39m \u001b[38;5;124m\"\u001b[39m\u001b[38;5;124mraise\u001b[39m\u001b[38;5;124m\"\u001b[39m,\n\u001b[0;32m   5443\u001b[0m ) \u001b[38;5;241m-\u001b[39m\u001b[38;5;241m>\u001b[39m DataFrame \u001b[38;5;241m|\u001b[39m \u001b[38;5;28;01mNone\u001b[39;00m:\n\u001b[0;32m   5444\u001b[0m \u001b[38;5;250m    \u001b[39m\u001b[38;5;124;03m\"\"\"\u001b[39;00m\n\u001b[0;32m   5445\u001b[0m \u001b[38;5;124;03m    Drop specified labels from rows or columns.\u001b[39;00m\n\u001b[0;32m   5446\u001b[0m \n\u001b[1;32m   (...)\u001b[0m\n\u001b[0;32m   5579\u001b[0m \u001b[38;5;124;03m            weight  1.0     0.8\u001b[39;00m\n\u001b[0;32m   5580\u001b[0m \u001b[38;5;124;03m    \"\"\"\u001b[39;00m\n\u001b[1;32m-> 5581\u001b[0m     \u001b[38;5;28;01mreturn\u001b[39;00m \u001b[38;5;28msuper\u001b[39m()\u001b[38;5;241m.\u001b[39mdrop(\n\u001b[0;32m   5582\u001b[0m         labels\u001b[38;5;241m=\u001b[39mlabels,\n\u001b[0;32m   5583\u001b[0m         axis\u001b[38;5;241m=\u001b[39maxis,\n\u001b[0;32m   5584\u001b[0m         index\u001b[38;5;241m=\u001b[39mindex,\n\u001b[0;32m   5585\u001b[0m         columns\u001b[38;5;241m=\u001b[39mcolumns,\n\u001b[0;32m   5586\u001b[0m         level\u001b[38;5;241m=\u001b[39mlevel,\n\u001b[0;32m   5587\u001b[0m         inplace\u001b[38;5;241m=\u001b[39minplace,\n\u001b[0;32m   5588\u001b[0m         errors\u001b[38;5;241m=\u001b[39merrors,\n\u001b[0;32m   5589\u001b[0m     )\n",
      "File \u001b[1;32m~\\anaconda3\\Lib\\site-packages\\pandas\\core\\generic.py:4788\u001b[0m, in \u001b[0;36mNDFrame.drop\u001b[1;34m(self, labels, axis, index, columns, level, inplace, errors)\u001b[0m\n\u001b[0;32m   4786\u001b[0m \u001b[38;5;28;01mfor\u001b[39;00m axis, labels \u001b[38;5;129;01min\u001b[39;00m axes\u001b[38;5;241m.\u001b[39mitems():\n\u001b[0;32m   4787\u001b[0m     \u001b[38;5;28;01mif\u001b[39;00m labels \u001b[38;5;129;01mis\u001b[39;00m \u001b[38;5;129;01mnot\u001b[39;00m \u001b[38;5;28;01mNone\u001b[39;00m:\n\u001b[1;32m-> 4788\u001b[0m         obj \u001b[38;5;241m=\u001b[39m obj\u001b[38;5;241m.\u001b[39m_drop_axis(labels, axis, level\u001b[38;5;241m=\u001b[39mlevel, errors\u001b[38;5;241m=\u001b[39merrors)\n\u001b[0;32m   4790\u001b[0m \u001b[38;5;28;01mif\u001b[39;00m inplace:\n\u001b[0;32m   4791\u001b[0m     \u001b[38;5;28mself\u001b[39m\u001b[38;5;241m.\u001b[39m_update_inplace(obj)\n",
      "File \u001b[1;32m~\\anaconda3\\Lib\\site-packages\\pandas\\core\\generic.py:4830\u001b[0m, in \u001b[0;36mNDFrame._drop_axis\u001b[1;34m(self, labels, axis, level, errors, only_slice)\u001b[0m\n\u001b[0;32m   4828\u001b[0m         new_axis \u001b[38;5;241m=\u001b[39m axis\u001b[38;5;241m.\u001b[39mdrop(labels, level\u001b[38;5;241m=\u001b[39mlevel, errors\u001b[38;5;241m=\u001b[39merrors)\n\u001b[0;32m   4829\u001b[0m     \u001b[38;5;28;01melse\u001b[39;00m:\n\u001b[1;32m-> 4830\u001b[0m         new_axis \u001b[38;5;241m=\u001b[39m axis\u001b[38;5;241m.\u001b[39mdrop(labels, errors\u001b[38;5;241m=\u001b[39merrors)\n\u001b[0;32m   4831\u001b[0m     indexer \u001b[38;5;241m=\u001b[39m axis\u001b[38;5;241m.\u001b[39mget_indexer(new_axis)\n\u001b[0;32m   4833\u001b[0m \u001b[38;5;66;03m# Case for non-unique axis\u001b[39;00m\n\u001b[0;32m   4834\u001b[0m \u001b[38;5;28;01melse\u001b[39;00m:\n",
      "File \u001b[1;32m~\\anaconda3\\Lib\\site-packages\\pandas\\core\\indexes\\base.py:7070\u001b[0m, in \u001b[0;36mIndex.drop\u001b[1;34m(self, labels, errors)\u001b[0m\n\u001b[0;32m   7068\u001b[0m \u001b[38;5;28;01mif\u001b[39;00m mask\u001b[38;5;241m.\u001b[39many():\n\u001b[0;32m   7069\u001b[0m     \u001b[38;5;28;01mif\u001b[39;00m errors \u001b[38;5;241m!=\u001b[39m \u001b[38;5;124m\"\u001b[39m\u001b[38;5;124mignore\u001b[39m\u001b[38;5;124m\"\u001b[39m:\n\u001b[1;32m-> 7070\u001b[0m         \u001b[38;5;28;01mraise\u001b[39;00m \u001b[38;5;167;01mKeyError\u001b[39;00m(\u001b[38;5;124mf\u001b[39m\u001b[38;5;124m\"\u001b[39m\u001b[38;5;132;01m{\u001b[39;00mlabels[mask]\u001b[38;5;241m.\u001b[39mtolist()\u001b[38;5;132;01m}\u001b[39;00m\u001b[38;5;124m not found in axis\u001b[39m\u001b[38;5;124m\"\u001b[39m)\n\u001b[0;32m   7071\u001b[0m     indexer \u001b[38;5;241m=\u001b[39m indexer[\u001b[38;5;241m~\u001b[39mmask]\n\u001b[0;32m   7072\u001b[0m \u001b[38;5;28;01mreturn\u001b[39;00m \u001b[38;5;28mself\u001b[39m\u001b[38;5;241m.\u001b[39mdelete(indexer)\n",
      "\u001b[1;31mKeyError\u001b[0m: \"['Latitude', 'Longitude'] not found in axis\""
     ]
    }
   ],
   "source": [
    "# réorganisation du df Stations\n",
    "stations.drop(['Latitude', 'Longitude', 'index_right','geometry'], axis=1, inplace=True)\n",
    "stations.insert(2,'id',stations.pop('id'))"
   ]
  },
  {
   "cell_type": "code",
   "execution_count": null,
   "id": "c1951c96",
   "metadata": {},
   "outputs": [],
   "source": [
    "stations.head(1)"
   ]
  },
  {
   "cell_type": "code",
   "execution_count": null,
   "id": "2ffdc1f8",
   "metadata": {},
   "outputs": [],
   "source": [
    "# raccord des id.Stations à Incendie\n",
    "incendie = incendie.merge(stations[['code_insee','id']], on='code_insee', how='left')"
   ]
  },
  {
   "cell_type": "markdown",
   "id": "cd2bcdb3",
   "metadata": {},
   "source": [
    "## Météo"
   ]
  },
  {
   "cell_type": "code",
   "execution_count": null,
   "id": "ca1eda64",
   "metadata": {},
   "outputs": [],
   "source": [
    "meteo_ = pd.read_csv('./Data/meteo.csv')\n",
    "meteo_.shape"
   ]
  },
  {
   "cell_type": "code",
   "execution_count": null,
   "id": "938f8e1f-6a2b-4582-97a0-529eee0e459f",
   "metadata": {},
   "outputs": [],
   "source": [
    "meteo_.head(10)"
   ]
  },
  {
   "cell_type": "markdown",
   "id": "24bf8a52-3755-4313-8d7d-d6a0117d44fe",
   "metadata": {},
   "source": [
    "## MODEL\n"
   ]
  },
  {
   "cell_type": "markdown",
   "id": "4bc0ce24-761b-4d9b-b4a5-78ab8af63263",
   "metadata": {},
   "source": [
    "## Prédiction gravité d'un incendie.\n",
    "# Prédire la surface qu’un feu va brûler dès qu’il est détecté, pour mieux réagir, comprendre et anticiper\n",
    "# Estimer l’impact potentiel d’un incendie dès son départ, grâce au variable que sont les 'Surface forêt (m2)': 'surf_foret',\n",
    "    'Surface autres terres boisées (m2)': 'surf_autres_bois',\n",
    "    'Surfaces non boisées naturelles (m2)': 'surf_nb_naturelle',\n",
    "    'Surfaces non boisées artificialisées (m2)': 'surf_nb_artificielle',\n",
    "    'Surfaces non boisées (m2)': 'surf_nb_totale\n",
    "\n",
    "# Ces caractéristiques incluent :\n",
    "Le lieu : dep, code_insee\n",
    "\n",
    "Le type de surface :\n",
    "\n",
    "forêt → feu peut s’étendre\n",
    "\n",
    "sol artificiel → moins inflammable\n",
    "\n",
    "La date : mois, jour → influence météo, sécheresse\n",
    "\n",
    "=> Tous ces éléments permettent d’estimer la gravité possible du feu.\n",
    "\n",
    "Tu anticipes donc l’impact potentiel, dès le déclenchement du feu, même avant d’avoir tout brûlé.\n",
    "\n"
   ]
  },
  {
   "cell_type": "code",
   "execution_count": 54,
   "id": "9648d677-30ff-48ab-9076-255efd43d26e",
   "metadata": {},
   "outputs": [],
   "source": [
    "df = incendie.copy()\n",
    "df['month'] = pd.to_datetime(df['date']).dt.month\n",
    "df['day'] = pd.to_datetime(df['date']).dt.day\n",
    "df['dayofweek'] = pd.to_datetime(df['date']).dt.dayofweek\n",
    "\n",
    "X = df[['dep', 'code_insee', 'surf_foret',\n",
    "        'surf_nb_naturelle', 'surf_nb_artificielle',\n",
    "      'month', 'day', 'dayofweek']].copy()\n",
    "\n",
    "y = df['surf_brulee']\n",
    "\n",
    "from sklearn.preprocessing import LabelEncoder\n",
    "for col in ['dep', 'code_insee']:\n",
    "    X[col] = LabelEncoder().fit_transform(X[col])\n",
    "\n",
    "from sklearn.model_selection import train_test_split\n",
    "X_train, X_test, y_train, y_test = train_test_split(X, y, test_size=0.2, random_state=42)"
   ]
  },
  {
   "cell_type": "code",
   "execution_count": 67,
   "id": "db0997d2-f2cd-4584-a5e3-2315f71adf47",
   "metadata": {},
   "outputs": [
    {
     "name": "stdout",
     "output_type": "stream",
     "text": [
      "Linear Regression\n",
      "Mean absolute Error: 19320.848664393285\n",
      "R²: 0.9875358413127271\n"
     ]
    }
   ],
   "source": [
    "from sklearn.linear_model import LinearRegression\n",
    "from sklearn.metrics import mean_absolute_error, r2_score\n",
    "\n",
    "# Modèle simple\n",
    "linreg = LinearRegression()\n",
    "linreg.fit(X_train, y_train)\n",
    "\n",
    "# Prédictions\n",
    "y_pred_lin = linreg.predict(X_test)\n",
    "\n",
    "# Évaluation\n",
    "print(\"Linear Regression\")\n",
    "print(\"Mean absolute Error:\", mean_absolute_error(y_test, y_pred_lin))\n",
    "print(\"R²:\", r2_score(y_test, y_pred_lin))\n"
   ]
  },
  {
   "cell_type": "code",
   "execution_count": 71,
   "id": "b19ba694-f982-4a1b-a9d9-afaabe1faa06",
   "metadata": {},
   "outputs": [
    {
     "data": {
      "image/png": "[encoded data removed]",
      "text/plain": [
       "<Figure size 800x600 with 1 Axes>"
      ]
     },
     "metadata": {},
     "output_type": "display_data"
    }
   ],
   "source": [
    "import matplotlib.pyplot as plt\n",
    "\n",
    "\n",
    "y_pred_lin = linreg.predict(X_test)\n",
    "\n",
    "# Plotting\n",
    "plt.figure(figsize=(8, 6))\n",
    "plt.scatter(y_test, y_pred_lin, alpha=0.3, color='blue')\n",
    "plt.plot([y_test.min(), y_test.max()], [y_test.min(), y_test.max()], 'r--', linewidth=2)\n",
    "plt.xlabel(\"Burned area (m²)\")\n",
    "plt.ylabel(\"Prediction of burned area(m²)\")\n",
    "plt.title(\"Linear Regression\")\n",
    "plt.tight_layout()\n",
    "plt.show()\n"
   ]
  },
  {
   "cell_type": "code",
   "execution_count": 73,
   "id": "764b4e61-6980-44ed-8d4e-8e3511c79f50",
   "metadata": {},
   "outputs": [
    {
     "name": "stdout",
     "output_type": "stream",
     "text": [
      "Random Forest Regressor\n",
      "Mean absolute Error: 37985.577953269574\n",
      "R²: 0.7710278508512041\n"
     ]
    }
   ],
   "source": [
    "from sklearn.ensemble import RandomForestRegressor\n",
    "\n",
    "# Modèle avancé\n",
    "rf = RandomForestRegressor(n_estimators=100, random_state=42)\n",
    "rf.fit(X_train, y_train)\n",
    "\n",
    "# Prédictions\n",
    "y_pred_rf = rf.predict(X_test)\n",
    "\n",
    "# Évaluation\n",
    "print(\"Random Forest Regressor\")\n",
    "print(\"Mean absolute Error:\", mean_absolute_error(y_test, y_pred_rf))\n",
    "print(\"R²:\", r2_score(y_test, y_pred_rf))\n"
   ]
  },
  {
   "cell_type": "code",
   "execution_count": 79,
   "id": "73ce2cac-3fef-4a15-93e1-b4b30df41e63",
   "metadata": {},
   "outputs": [
    {
     "data": {
      "image/png": "[encoded data removed]",
      "text/plain": [
       "<Figure size 640x480 with 1 Axes>"
      ]
     },
     "metadata": {},
     "output_type": "display_data"
    }
   ],
   "source": [
    "import matplotlib.pyplot as plt\n",
    "\n",
    "plt.scatter(y_test, y_pred_rf, alpha=0.3)\n",
    "plt.xlabel(\"Burned area (m²)\")\n",
    "plt.ylabel(\"Prediction of burned area(m²)\")\n",
    "plt.title(\"Random Forest\")\n",
    "plt.plot([y_test.min(), y_test.max()], [y_test.min(), y_test.max()], 'r--')\n",
    "plt.tight_layout()\n",
    "plt.show()\n"
   ]
  },
  {
   "cell_type": "code",
   "execution_count": null,
   "id": "bb9b452f-e679-40c9-b156-4380b8ff804d",
   "metadata": {},
   "outputs": [],
   "source": []
  }
 ],
 "metadata": {
  "kernelspec": {
   "display_name": "Python 3 (ipykernel)",
   "language": "python",
   "name": "python3"
  },
  "language_info": {
   "codemirror_mode": {
    "name": "ipython",
    "version": 3
   },
   "file_extension": ".py",
   "mimetype": "text/x-python",
   "name": "python",
   "nbconvert_exporter": "python",
   "pygments_lexer": "ipython3",
   "version": "3.12.9"
  }
 },
 "nbformat": 4,
 "nbformat_minor": 5
}
